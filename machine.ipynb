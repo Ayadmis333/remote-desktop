{
  "nbformat": 4,
  "nbformat_minor": 0,
  "metadata": {
    "colab": {
      "name": "machine.ipynb",
      "provenance": [],
      "collapsed_sections": [],
      "include_colab_link": true
    },
    "kernelspec": {
      "display_name": "Python 3",
      "name": "python3"
    }
  },
  "cells": [
    {
      "cell_type": "markdown",
      "metadata": {
        "id": "view-in-github",
        "colab_type": "text"
      },
      "source": [
        "<a href=\"https://colab.research.google.com/github/apix-loi/remote-desktop/blob/main/machine.ipynb\" target=\"_parent\"><img src=\"https://colab.research.google.com/assets/colab-badge.svg\" alt=\"Open In Colab\"/></a>"
      ]
    },
    {
      "cell_type": "markdown",
      "metadata": {
        "id": "WiCtBFIJAkwd"
      },
      "source": [
        "## **Colab RDP** : Remote Desktop to Colab Instance use Google Remote Desktop \n",
        "\n",
        "     Warning : Don't use it for Mining or you'll get BANNED \n",
        " **User is : linux,**\n",
        " **Password is : root**\n",
        "\n",
        " **It can take up to 4-5 min for installation**\n",
        " + XFCE4 Desktop Environment\n",
        " + CrossOver (Run Windows Appication)\n",
        " + Chrome\n",
        " + Tools\n",
        " + VLC Media Player\n",
        "\n",
        "Google Colab can give you Instance with 12GB of RAM and GPU for 12 hours (Max.).\n",
        "\n",
        "Anyone can use it to perform Heavy Tasks :\n",
        "\n"
      ]
    },
    {
      "cell_type": "markdown",
      "metadata": {
        "id": "RtoY5SKzwTA7"
      },
      "source": [
        "For GPU: By default colab running without GPU, to enable go to Runtime and change runtime to GPU."
      ]
    },
    {
      "cell_type": "code",
      "metadata": {
        "colab": {
          "base_uri": "https://localhost:8080/"
        },
        "id": "t7F_iIOpAnTl",
        "cellView": "form",
        "outputId": "cdc5140f-9051-4c98-b3c9-d46e21340945"
      },
      "source": [
        "#@title **Primary Command, Run This Cell :**\n",
        "#@markdown Run this cell and wait until it is finished.\n",
        "! wget https://raw.githubusercontent.com/Appnox-del/colab/main/colab_exe.sh &> /dev/null\n",
        "! chmod +x colab_exe.sh\n",
        "! ./colab_exe.sh\n",
        "! sleep 43200"
      ],
      "execution_count": 1,
      "outputs": [
        {
          "output_type": "stream",
          "text": [
            "\u001b[H\u001b[2J\u001b[36m\u001b[1m   \n",
            "      ██╗     ██╗███╗  ██╗██╗   ██╗██╗  ██╗    ██████╗ ███████╗ ██████╗██╗  ██╗████████╗ █████╗ ██████╗ \n",
            "      ██║░░░░░██║████╗░██║██║░░░██║╚██╗██╔╝    ██╔══██╗██╔════╝██╔════╝██║░██╔╝╚══██╔══╝██╔══██╗██╔══██╗\n",
            "      ██║░░░░░██║██╔██╗██║██║░░░██║░╚███╔╝░    ██║░░██║█████╗░░╚█████╗░█████═╝░░░░██║░░░██║░░██║██████╔╝\n",
            "      ██║░░░░░██║██║╚████║██║░░░██║░██╔██╗░    ██║░░██║██╔══╝░░░╚═══██╗██╔═██╗░░░░██║░░░██║░░██║██╔═══╝░\n",
            "      ███████╗██║██║░╚███║╚██████╔╝██╔╝╚██╗    ██████╔╝███████╗██████╔╝██║░╚██╗░░░██║░░░╚█████╔╝██║░░░░\n",
            "      ╚══════╝╚═╝╚═╝░░╚══╝░╚═════╝░╚═╝░░╚═╝    ╚═════╝░╚══════╝╚═════╝░╚═╝░░╚═╝░░░╚═╝░░░░╚════╝░╚═╝░░░\n",
            "    \u001b[31m  𝐁𝐲 𝐀𝐩𝐢𝐱 𝐋𝐨𝐢\n",
            "      © 2021 \u001b[36m For Accessing Remote Desktop\n",
            "      Github : https://github.com/apix-loi/          \n",
            "\u001b[0m\u001b[0m\n",
            "\n",
            "user created \u001b[0m\u001b[0m\n",
            "Adding user `linux' to group `sudo' ...\n",
            "Adding user linux to group sudo\n",
            "Done.\n",
            "\n",
            "\n",
            "\u001b[32m\u001b[1m    Installer Loaded \u001b[0m\u001b[0m\n",
            "\n",
            "\u001b[36m\u001b[1m    Chrome Remote Desktop Installed \u001b[0m\u001b[0m\n",
            "\u001b[36m\u001b[1m    Desktop Environment Installed \u001b[0m\u001b[0m\n",
            "\u001b[36m\u001b[1m    Google Chrome Installed \u001b[0m\u001b[0m\n",
            "\u001b[36m\u001b[1m    CrossOver Installed \u001b[0m\u001b[0m\n",
            "\u001b[36m\u001b[1m    VLC Media Player Installed \u001b[0m\u001b[0m\n",
            "\u001b[36m\u001b[1m    Other Tools Installed \u001b[0m\u001b[0m\n",
            "\n",
            "\u001b[32m\u001b[1m    Installation Completed \u001b[0m\u001b[0m\n",
            "\n",
            "Adding user `linux' to group `chrome-remote-desktop' ...\n",
            "Adding user linux to group chrome-remote-desktop\n",
            "Done.\n",
            "\n",
            "Visit http://remotedesktop.google.com/headless and Copy the command after authentication\n",
            "Paste Command: DISPLAY= /opt/google/chrome-remote-desktop/start-host --code=\"4/0AX4XfWim8lXot84CNrZpnSvWxhsTRZcHu9AgB8SzWX-592Jo98vkaeBToQ2VTZNZ5SSRRw\" --redirect-url=\"https://remotedesktop.google.com/_/oauthredirect\" --name=$(hostname)\n",
            "No passwd entry for user 'user'\n",
            "\n",
            "\u001b[36m\u001b[1m I Hope this code helped you ' \u001b[0m\u001b[0m\n",
            "\n",
            "\u001b[36m\u001b[1m https://remotedesktop.google.com/access/ to access this virtual machine, do not close browser tab to keep colab running ' \u001b[0m\u001b[0m\n",
            "\n",
            "\u001b[32m\u001b[1m Finished Succesfully\u001b[0m\u001b[0m^C\n"
          ],
          "name": "stdout"
        }
      ]
    },
    {
      "cell_type": "code",
      "metadata": {
        "id": "i-96nvVJ2HQc",
        "cellView": "form"
      },
      "source": [
        "#@title **To Prevent this notebook from disconnecting :**\n",
        "#@markdown Run this cell.\n",
        "import IPython\n",
        "from google.colab import output\n",
        "\n",
        "display(IPython.display.Javascript('''\n",
        "function ClickConnect(){\n",
        "  btn = document.querySelector(\"colab-connect-button\")\n",
        "  if (btn != null){\n",
        "    console.log(\"Click colab-connect-button\");\n",
        "    btn.click()\n",
        "    }\n",
        "\n",
        "  btn = document.getElementById('ok')\n",
        "  if (btn != null){\n",
        "    console.log(\"Click reconnect\");\n",
        "    btn.click()\n",
        "    }\n",
        "  }\n",
        "\n",
        "setInterval(ClickConnect,60000)\n",
        "'''))"
      ],
      "execution_count": null,
      "outputs": []
    }
  ]
}