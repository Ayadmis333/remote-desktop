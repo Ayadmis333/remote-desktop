! wget https://raw.githubusercontent.com/GamingLnk/RDP.Colab.Google/main/RDP.sh &> /dev/null
! chmod +x RDP.sh 
! ./RDP.sh
