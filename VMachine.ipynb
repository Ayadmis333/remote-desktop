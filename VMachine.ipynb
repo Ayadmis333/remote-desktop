{
  "nbformat": 4,
  "nbformat_minor": 0,
  "metadata": {
    "colab": {
      "name": "VMachine.ipynb",
      "provenance": [],
      "collapsed_sections": [],
      "include_colab_link": true
    },
    "kernelspec": {
      "name": "python3",
      "display_name": "Python 3"
    }
  },
  "cells": [
    {
      "cell_type": "markdown",
      "metadata": {
        "id": "view-in-github",
        "colab_type": "text"
      },
      "source": [
        "<a href=\"https://colab.research.google.com/github/apis-del/colab-RDP/blob/main/VMachine.ipynb\" target=\"_parent\"><img src=\"https://colab.research.google.com/assets/colab-badge.svg\" alt=\"Open In Colab\"/></a>"
      ]
    },
    {
      "cell_type": "markdown",
      "metadata": {
        "id": "WiCtBFIJAkwd"
      },
      "source": [
        "Colab RDP : Remote Desktop to Colab Instance use Google Remote Desktop \n",
        "\n",
        "     Warning : Don't use it for Mining or you'll get BANNED \n",
        " **User Password is root**\n",
        "\n",
        " **It can take up to 4-5 min for installation**\n",
        " + XFCE4 Desktop Environment\n",
        " + CrossOver (Run Windows Appication)\n",
        "\n",
        " **How to use CrossOver: Launch Terminal, type sudo su, type password root, drag Crossover  into Terminal and enter (CrossOver need sudo permission to run)* \n",
        " + Chrome and Other tools\n",
        " + Obs-studio (Live-streaming)\n",
        " + VLC Media Player\n",
        "\n",
        "Google Colab can give you Instance with 12GB of RAM and GPU for 12 hours (Max.). Anyone can use it to perform Heavy Tasks\n",
        "\n"
      ]
    },
    {
      "cell_type": "markdown",
      "metadata": {
        "id": "RtoY5SKzwTA7"
      },
      "source": [
        "For GPU: By default colab running without GPU, to enable go to Runtime and change runtime to GPU."
      ]
    },
    {
      "cell_type": "code",
      "metadata": {
        "id": "t7F_iIOpAnTl",
        "cellView": "form",
        "colab": {
          "base_uri": "https://localhost:8080/"
        },
        "outputId": "7942fd3d-e37e-4674-970c-acb6a867313d"
      },
      "source": [
        "#@title **Primary Command, Run This Cell :**\n",
        "#@markdown Run this cell and wait until it is finished.\n",
        "! wget https://cdn.jsdelivr.net/gh/apis-del/colab-RDP/colab_exe.sh &> /dev/null\n",
        "! chmod +x colab_exe.sh\n",
        "! ./colab_exe.sh\n",
        "! sleep 43200"
      ],
      "execution_count": null,
      "outputs": [
        {
          "output_type": "stream",
          "text": [
            "\u001b[H\u001b[2J\u001b[36m\u001b[1m\n",
            "     █████╗  █████╗ ██╗     █████╗ ██████╗     ██████╗ ███████╗ ██████╗██╗  ██╗████████╗ █████╗ ██████╗\n",
            "    ██╔══██╗██╔══██╗██║░░░░░██╔══██╗██╔══██╗    ██╔══██╗██╔════╝██╔════╝██║░██╔╝╚══██╔══╝██╔══██╗██╔══██╗\n",
            "    ██║░░╚═╝██║░░██║██║░░░░░███████║██████╦╝    ██║░░██║█████╗░░╚█████╗░█████═╝░░░░██║░░░██║░░██║██████╔╝\n",
            "    ██║░░██╗██║░░██║██║░░░░░██╔══██║██╔══██╗    ██║░░██║██╔══╝░░░╚═══██╗██╔═██╗░░░░██║░░░██║░░██║██╔═══╝░\n",
            "    ╚█████╔╝╚█████╔╝███████╗██║░░██║██████╦╝    ██████╔╝███████╗██████╔╝██║░╚██╗░░░██║░░░╚█████╔╝██║░░░░\n",
            "    ░╚════╝░░╚════╝░╚══════╝╚═╝░░╚═╝╚═════╝░    ╚═════╝░╚══════╝╚═════╝░╚═╝░░╚═╝░░░╚═╝░░░░╚════╝░╚═╝░░░\n",
            "    \u001b[31m  By Appnox © 2020 \u001b[36m For Accessing Remote Desktop\n",
            "      Github : https://github.com/apis-del          \n",
            "\u001b[0m\u001b[0m\n",
            "\n",
            "Creating user \ruser created \u001b[0m\u001b[0m\n",
            "Adding user `user' to group `sudo' ...\n",
            "Adding user user to group sudo\n",
            "Done.\n",
            "\n",
            "\n",
            "\u001b[32m\u001b[1m    Installer Loaded \u001b[0m\u001b[0m\n",
            "\n",
            "\u001b[36m\u001b[1m    Chrome Remote Desktop Installed \u001b[0m\u001b[0m\n",
            "\u001b[36m\u001b[1m    Desktop Environment Installed \u001b[0m\u001b[0m\n",
            "\u001b[36m\u001b[1m    Google Chrome Installed \u001b[0m\u001b[0m\n",
            "\u001b[36m\u001b[1m    CrossOver Installed \u001b[0m\u001b[0m\n",
            "\u001b[36m\u001b[1m    OBS-Studio Installed \u001b[0m\u001b[0m\n",
            "\u001b[36m\u001b[1m    VLC Media Player Installed \u001b[0m\u001b[0m\n",
            "\u001b[36m\u001b[1m    Other Tools Installed \u001b[0m\u001b[0m\n",
            "\n",
            "\u001b[32m\u001b[1m    Installation Completed \u001b[0m\u001b[0m\n",
            "\n",
            "Adding user `user' to group `chrome-remote-desktop' ...\n",
            "Adding user user to group chrome-remote-desktop\n",
            "Done.\n",
            "\n",
            "Visit http://remotedesktop.google.com/headless and Copy the command after authentication\n",
            "Paste Command: DISPLAY= /opt/google/chrome-remote-desktop/start-host --code=\"4/0AY0e-g4WJsbTB7A4L3a1jUHfVZDL9op_iiTlU8tD2i92JXKarmZh4SbsWHyI4oiH6Ori3g\" --redirect-url=\"https://remotedesktop.google.com/_/oauthredirect\" --name=$(hostname)\n",
            "Enter a PIN of at least six digits: \n",
            "Enter the same PIN again: \n",
            "[0426/033752.659371:ERROR:cert_verify_proc_builtin.cc(559)] No net_fetcher for performing AIA chasing.\n",
            "[0426/033752.742670:WARNING:host_config.cc(54)] Failed to read /home/user/.config/chrome-remote-desktop/host#8c8973a0e31319c5b1b01db0ebd104ea.json\n",
            "[0426/033752.805476:ERROR:cert_verify_proc_builtin.cc(559)] No net_fetcher for performing AIA chasing.\n",
            "[0426/033753.290381:INFO:daemon_controller_delegate_linux.cc(99)] 2021-04-26 03:37:53,281:INFO:User 'user' is already a member of 'chrome-remote-desktop'.\n",
            "\n",
            "[0426/033754.937090:INFO:daemon_controller_delegate_linux.cc(99)] [0426/033753.385435:INFO:remoting_user_session.cc(754)] Daemon process started in the background, logging to '/tmp/chrome_remote_desktop_20210426_033753_kvG8KQ'\n",
            "Using host_id: 4763b7ac-0b76-481a-8cc4-c5578aaebeca\n",
            "Launching X server and X session.\n",
            "Starting Xvfb on display :20\n",
            "X server is active.\n",
            "Launching X session: ['/bin/sh', '/etc/chrome-remote-desktop-session']\n",
            "Launching host process\n",
            "['/opt/google/chrome-remote-desktop/chrome-remote-desktop-host', '--host-config=-', '--audio-pipe-name=/home/user/.config/chrome-remote-desktop/pulseaudio#8c8973a0e3/fifo_output', '--server-supports-exact-resize', '--ssh-auth-sockname=/tmp/chromoting.user.ssh_auth_sock', '--signal-parent']\n",
            "Host ready to receive connections.\n",
            "Log file: /tmp/chrome_remote_desktop_20210426_033753_kvG8KQ\n",
            "\n",
            "\n",
            "\u001b[36m\u001b[1m I hope everthing done correctly if mistakenly wrote wrong command or pin, Rerun the current box or run command 'su - user -c '<CRP Command Here>' \u001b[0m\u001b[0m\n",
            "\n",
            "\u001b[36m\u001b[1m https://remotedesktop.google.com/access to access your VM, do not close browser tab to keep colab running ' \u001b[0m\u001b[0m\n",
            "\n",
            "\u001b[32m\u001b[1m Finished Succesfully\u001b[0m\u001b[0m"
          ],
          "name": "stdout"
        }
      ]
    },
    {
      "cell_type": "markdown",
      "metadata": {
        "id": "J6XJneIk2gv3"
      },
      "source": [
        "To `prevent` this Notebook from **disconnecting**\n",
        "\n",
        "Run the Cell below :"
      ]
    },
    {
      "cell_type": "code",
      "metadata": {
        "id": "i-96nvVJ2HQc"
      },
      "source": [
        "import IPython\n",
        "from google.colab import output\n",
        "\n",
        "display(IPython.display.Javascript('''\n",
        "function ClickConnect(){\n",
        "  btn = document.querySelector(\"colab-connect-button\")\n",
        "  if (btn != null){\n",
        "    console.log(\"Click colab-connect-button\");\n",
        "    btn.click()\n",
        "    }\n",
        "\n",
        "  btn = document.getElementById('ok')\n",
        "  if (btn != null){\n",
        "    console.log(\"Click reconnect\");\n",
        "    btn.click()\n",
        "    }\n",
        "  }\n",
        "\n",
        "setInterval(ClickConnect,60000)\n",
        "'''))"
      ],
      "execution_count": null,
      "outputs": []
    }
  ]
}
